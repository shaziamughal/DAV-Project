{
  "nbformat": 4,
  "nbformat_minor": 0,
  "metadata": {
    "colab": {
      "provenance": []
    },
    "kernelspec": {
      "name": "python3",
      "display_name": "Python 3"
    },
    "language_info": {
      "name": "python"
    }
  },
  "cells": [
    {
      "cell_type": "markdown",
      "source": [
        "# **Phase 3**"
      ],
      "metadata": {
        "id": "SL0qxgwX0Nw5"
      }
    },
    {
      "cell_type": "markdown",
      "source": [
        "Missing Values"
      ],
      "metadata": {
        "id": "tk-ljwzNzXd4"
      }
    },
    {
      "cell_type": "code",
      "source": [
        "import pandas as pd\n",
        "\n",
        "# Load the dataset\n",
        "df = pd.read_csv(\"kG nlp.csv\")\n",
        "\n",
        "# Step 1: Check for missing values in each column\n",
        "print(\"Missing Values Check:\")\n",
        "print(\"Number of missing values in each column:\")\n",
        "print(df.isnull().sum())\n",
        "\n",
        "# Step 2: Calculate the percentage of missing values\n",
        "print(\"\\nPercentage of missing values in each column:\")\n",
        "print((df.isnull().sum() / len(df) * 100).round(2))\n",
        "\n",
        "# Step 3: Handle missing values (if any)\n",
        "# Since no missing values were found, this step is for demonstration purposes\n",
        "if df.isnull().sum().sum() == 0:\n",
        "    print(\"\\nNo missing values found in the dataset. No action required.\")\n",
        "else:\n",
        "    # Example handling strategies (for reference, not executed in this case):\n",
        "    # Option 1: Drop rows with missing values\n",
        "    # df = df.dropna()\n",
        "    # Option 2: Fill missing values (e.g., with a placeholder)\n",
        "    # df = df.fillna({'source': 'Unknown', 'target': 'Unknown', 'relation': 'Unknown'})\n",
        "    print(\"Missing values were found and would be handled here (e.g., dropping rows or filling with placeholders).\")\n",
        "\n",
        "# Step 4: Verify the dataset after handling missing values\n",
        "print(\"\\nDataset Info After Missing Values Check:\")\n",
        "print(df.info())\n",
        "\n",
        "# Optional: Save the dataset (no changes made since no missing values were found)\n",
        "df.to_csv(\"kG_nlp_missing_values_checked.csv\", index=False)\n",
        "\n",
        "# Optional: Display the first few rows of the dataset\n",
        "print(\"\\nPreview of the dataset after missing values check:\")\n",
        "print(df.head())"
      ],
      "metadata": {
        "colab": {
          "base_uri": "https://localhost:8080/"
        },
        "id": "ZHN7KbeHzXHy",
        "outputId": "01c5c4c2-4bd2-4ef5-cadf-0ea5bf88be2d"
      },
      "execution_count": 3,
      "outputs": [
        {
          "output_type": "stream",
          "name": "stdout",
          "text": [
            "Missing Values Check:\n",
            "Number of missing values in each column:\n",
            "sentence    0\n",
            "source      0\n",
            "target      0\n",
            "relation    0\n",
            "tokens      0\n",
            "tags        0\n",
            "dtype: int64\n",
            "\n",
            "Percentage of missing values in each column:\n",
            "sentence    0.0\n",
            "source      0.0\n",
            "target      0.0\n",
            "relation    0.0\n",
            "tokens      0.0\n",
            "tags        0.0\n",
            "dtype: float64\n",
            "\n",
            "No missing values found in the dataset. No action required.\n",
            "\n",
            "Dataset Info After Missing Values Check:\n",
            "<class 'pandas.core.frame.DataFrame'>\n",
            "RangeIndex: 43594 entries, 0 to 43593\n",
            "Data columns (total 6 columns):\n",
            " #   Column    Non-Null Count  Dtype \n",
            "---  ------    --------------  ----- \n",
            " 0   sentence  43594 non-null  object\n",
            " 1   source    43594 non-null  object\n",
            " 2   target    43594 non-null  object\n",
            " 3   relation  43594 non-null  object\n",
            " 4   tokens    43594 non-null  object\n",
            " 5   tags      43594 non-null  object\n",
            "dtypes: object(6)\n",
            "memory usage: 2.0+ MB\n",
            "None\n",
            "\n",
            "Preview of the dataset after missing values check:\n",
            "                                            sentence     source     target  \\\n",
            "0               a group of soldiers provide security      group   security   \n",
            "1  this beautiful waves ring is crafted in platin...  beautiful      waves   \n",
            "2  A plate of salad that includes strawberries on...       that       side   \n",
            "3  map from which users can select the district i...       they  hospitals   \n",
            "4      coach is given a guard of honour from players      coach    players   \n",
            "\n",
            "            relation                                             tokens  \\\n",
            "0        ['provide']  ['a', 'group', 'of', 'soldiers', 'provide', 's...   \n",
            "1  ['crafted', 'in']  ['this', 'beautiful', 'waves', 'ring', 'is', '...   \n",
            "2    ['plate', 'of']  ['A', 'plate', 'of', 'salad', 'that', 'include...   \n",
            "3    ['map', 'from']  ['map', 'from', 'which', 'users', 'can', 'sele...   \n",
            "4          ['given']  ['coach', 'is', 'given', 'a', 'guard', 'of', '...   \n",
            "\n",
            "                                                tags  \n",
            "0               ['O', 'SRC', 'O', 'O', 'REL', 'TGT']  \n",
            "1  ['O', 'SRC', 'TGT', 'O', 'O', 'REL', 'REL', 'O...  \n",
            "2  ['O', 'REL', 'REL', 'O', 'SRC', 'O', 'O', 'O',...  \n",
            "3  ['REL', 'REL', 'O', 'O', 'O', 'O', 'SRC', 'O',...  \n",
            "4  ['SRC', 'O', 'REL', 'SRC', 'O', 'O', 'O', 'O',...  \n"
          ]
        }
      ]
    },
    {
      "cell_type": "markdown",
      "source": [
        "Removing Duplicates rows"
      ],
      "metadata": {
        "id": "H5loXlP1yvRA"
      }
    },
    {
      "cell_type": "code",
      "execution_count": 1,
      "metadata": {
        "colab": {
          "base_uri": "https://localhost:8080/"
        },
        "id": "POyClceGyV4n",
        "outputId": "42809ef7-ce83-409d-c17a-f0df7510cc30"
      },
      "outputs": [
        {
          "output_type": "stream",
          "name": "stdout",
          "text": [
            "Number of rows before removing duplicates: 43594\n",
            "Number of rows after removing duplicates: 24715\n",
            "\n",
            "Preview of the dataset after removing duplicates:\n",
            "                                            sentence     source     target  \\\n",
            "0               a group of soldiers provide security      group   security   \n",
            "1  this beautiful waves ring is crafted in platin...  beautiful      waves   \n",
            "2  A plate of salad that includes strawberries on...       that       side   \n",
            "3  map from which users can select the district i...       they  hospitals   \n",
            "4      coach is given a guard of honour from players      coach    players   \n",
            "\n",
            "            relation                                             tokens  \\\n",
            "0        ['provide']  ['a', 'group', 'of', 'soldiers', 'provide', 's...   \n",
            "1  ['crafted', 'in']  ['this', 'beautiful', 'waves', 'ring', 'is', '...   \n",
            "2    ['plate', 'of']  ['A', 'plate', 'of', 'salad', 'that', 'include...   \n",
            "3    ['map', 'from']  ['map', 'from', 'which', 'users', 'can', 'sele...   \n",
            "4          ['given']  ['coach', 'is', 'given', 'a', 'guard', 'of', '...   \n",
            "\n",
            "                                                tags  \n",
            "0               ['O', 'SRC', 'O', 'O', 'REL', 'TGT']  \n",
            "1  ['O', 'SRC', 'TGT', 'O', 'O', 'REL', 'REL', 'O...  \n",
            "2  ['O', 'REL', 'REL', 'O', 'SRC', 'O', 'O', 'O',...  \n",
            "3  ['REL', 'REL', 'O', 'O', 'O', 'O', 'SRC', 'O',...  \n",
            "4  ['SRC', 'O', 'REL', 'SRC', 'O', 'O', 'O', 'O',...  \n"
          ]
        }
      ],
      "source": [
        "import pandas as pd\n",
        "\n",
        "# Load the dataset\n",
        "df = pd.read_csv(\"kG nlp.csv\")\n",
        "\n",
        "# Display the initial number of rows\n",
        "print(f\"Number of rows before removing duplicates: {len(df)}\")\n",
        "\n",
        "# Remove duplicates by comparing all columns\n",
        "df_no_duplicates = df.drop_duplicates()\n",
        "\n",
        "# Display the number of rows after removing duplicates\n",
        "print(f\"Number of rows after removing duplicates: {len(df_no_duplicates)}\")\n",
        "\n",
        "# Save the cleaned dataset to a new CSV file (optional)\n",
        "df_no_duplicates.to_csv(\"kG_nlp_no_duplicates.csv\", index=False)\n",
        "\n",
        "# Optional: Display the first few rows of the cleaned dataset\n",
        "print(\"\\nPreview of the dataset after removing duplicates:\")\n",
        "print(df_no_duplicates.head())"
      ]
    },
    {
      "cell_type": "markdown",
      "source": [
        "Data Transformation"
      ],
      "metadata": {
        "id": "NkkBrAJczE2f"
      }
    },
    {
      "cell_type": "code",
      "source": [
        "import pandas as pd\n",
        "\n",
        "# Load the dataset\n",
        "df = pd.read_csv(\"kG_nlp_no_duplicates.csv\")\n",
        "\n",
        "# Display the initial state of the 'relation' column\n",
        "print(\"Before transformation - Sample of 'relation' column:\")\n",
        "print(df['relation'].head())\n",
        "\n",
        "# Transform the 'relation' column: Convert string representation of lists to a single string\n",
        "# Example: \"['grow', 'on']\" -> \"grow on\"\n",
        "df['relation'] = df['relation'].apply(lambda x: ' '.join(eval(x)).strip() if isinstance(x, str) else x)\n",
        "\n",
        "# Display the transformed 'relation' column\n",
        "print(\"\\nAfter transformation - Sample of 'relation' column:\")\n",
        "print(df['relation'].head())\n",
        "\n",
        "# The 'tags' column is already structured (e.g., SRC, TGT, REL) and requires no transformation\n",
        "print(\"\\nSample of 'tags' column (no transformation needed):\")\n",
        "print(df['tags'].head())\n",
        "\n",
        "# Save the transformed dataset to a new CSV file (optional)\n",
        "df.to_csv(\"kG_nlp_transformed.csv\", index=False)\n",
        "\n",
        "# Optional: Display the first few rows of the transformed dataset\n",
        "print(\"\\nPreview of the dataset after transformation:\")\n",
        "print(df.head())"
      ],
      "metadata": {
        "colab": {
          "base_uri": "https://localhost:8080/"
        },
        "id": "TAjUgl7VymWb",
        "outputId": "e0e1e794-bc3c-4f7c-db65-e8541927282f"
      },
      "execution_count": 2,
      "outputs": [
        {
          "output_type": "stream",
          "name": "stdout",
          "text": [
            "Before transformation - Sample of 'relation' column:\n",
            "0          ['provide']\n",
            "1    ['crafted', 'in']\n",
            "2      ['plate', 'of']\n",
            "3      ['map', 'from']\n",
            "4            ['given']\n",
            "Name: relation, dtype: object\n",
            "\n",
            "After transformation - Sample of 'relation' column:\n",
            "0       provide\n",
            "1    crafted in\n",
            "2      plate of\n",
            "3      map from\n",
            "4         given\n",
            "Name: relation, dtype: object\n",
            "\n",
            "Sample of 'tags' column (no transformation needed):\n",
            "0                 ['O', 'SRC', 'O', 'O', 'REL', 'TGT']\n",
            "1    ['O', 'SRC', 'TGT', 'O', 'O', 'REL', 'REL', 'O...\n",
            "2    ['O', 'REL', 'REL', 'O', 'SRC', 'O', 'O', 'O',...\n",
            "3    ['REL', 'REL', 'O', 'O', 'O', 'O', 'SRC', 'O',...\n",
            "4    ['SRC', 'O', 'REL', 'SRC', 'O', 'O', 'O', 'O',...\n",
            "Name: tags, dtype: object\n",
            "\n",
            "Preview of the dataset after transformation:\n",
            "                                            sentence     source     target  \\\n",
            "0               a group of soldiers provide security      group   security   \n",
            "1  this beautiful waves ring is crafted in platin...  beautiful      waves   \n",
            "2  A plate of salad that includes strawberries on...       that       side   \n",
            "3  map from which users can select the district i...       they  hospitals   \n",
            "4      coach is given a guard of honour from players      coach    players   \n",
            "\n",
            "     relation                                             tokens  \\\n",
            "0     provide  ['a', 'group', 'of', 'soldiers', 'provide', 's...   \n",
            "1  crafted in  ['this', 'beautiful', 'waves', 'ring', 'is', '...   \n",
            "2    plate of  ['A', 'plate', 'of', 'salad', 'that', 'include...   \n",
            "3    map from  ['map', 'from', 'which', 'users', 'can', 'sele...   \n",
            "4       given  ['coach', 'is', 'given', 'a', 'guard', 'of', '...   \n",
            "\n",
            "                                                tags  \n",
            "0               ['O', 'SRC', 'O', 'O', 'REL', 'TGT']  \n",
            "1  ['O', 'SRC', 'TGT', 'O', 'O', 'REL', 'REL', 'O...  \n",
            "2  ['O', 'REL', 'REL', 'O', 'SRC', 'O', 'O', 'O',...  \n",
            "3  ['REL', 'REL', 'O', 'O', 'O', 'O', 'SRC', 'O',...  \n",
            "4  ['SRC', 'O', 'REL', 'SRC', 'O', 'O', 'O', 'O',...  \n"
          ]
        }
      ]
    },
    {
      "cell_type": "code",
      "source": [],
      "metadata": {
        "id": "8jNzxsMUzMzk"
      },
      "execution_count": null,
      "outputs": []
    }
  ]
}